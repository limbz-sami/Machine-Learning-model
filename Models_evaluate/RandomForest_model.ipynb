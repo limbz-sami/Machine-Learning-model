{
 "cells": [
  {
   "cell_type": "markdown",
   "metadata": {},
   "source": [
    "## Random Forest"
   ]
  },
  {
   "cell_type": "markdown",
   "metadata": {},
   "source": [
    "#### Import Random Forest Algorithm for classification & Regression"
   ]
  },
  {
   "cell_type": "code",
   "execution_count": 12,
   "metadata": {},
   "outputs": [
    {
     "name": "stdout",
     "output_type": "stream",
     "text": [
      "RandomForestClassifier(bootstrap=True, class_weight=None, criterion='gini',\n",
      "            max_depth=None, max_features='auto', max_leaf_nodes=None,\n",
      "            min_impurity_decrease=0.0, min_impurity_split=None,\n",
      "            min_samples_leaf=1, min_samples_split=2,\n",
      "            min_weight_fraction_leaf=0.0, n_estimators='warn', n_jobs=None,\n",
      "            oob_score=False, random_state=None, verbose=0,\n",
      "            warm_start=False)\n",
      "RandomForestRegressor(bootstrap=True, criterion='mse', max_depth=None,\n",
      "           max_features='auto', max_leaf_nodes=None,\n",
      "           min_impurity_decrease=0.0, min_impurity_split=None,\n",
      "           min_samples_leaf=1, min_samples_split=2,\n",
      "           min_weight_fraction_leaf=0.0, n_estimators='warn', n_jobs=None,\n",
      "           oob_score=False, random_state=None, verbose=0, warm_start=False)\n"
     ]
    }
   ],
   "source": [
    "from sklearn.ensemble import RandomForestClassifier, RandomForestRegressor\n",
    "\n",
    "print(RandomForestClassifier())\n",
    "print(RandomForestRegressor())"
   ]
  },
  {
   "cell_type": "code",
   "execution_count": 13,
   "metadata": {},
   "outputs": [],
   "source": [
    "import joblib\n",
    "import pandas as pd\n",
    "from sklearn.model_selection import GridSearchCV\n",
    "\n",
    "import warnings\n",
    "from sklearn.exceptions import DataConversionWarning\n",
    "warnings.filterwarnings('ignore', category=FutureWarning)\n",
    "warnings.filterwarnings('ignore', category=DeprecationWarning)\n",
    "warnings.filterwarnings('ignore', category=DataConversionWarning)\n",
    "\n",
    "tr_features = pd.read_csv('../Resources/train_features.csv')\n",
    "tr_labels = pd.read_csv('../Resources/train_labels.csv', header=None)\n",
    "test_features = pd.read_csv('../Resources/test_features.csv')\n",
    "test_labels = pd.read_csv('../Resources/test_labels.csv', header=None)\n",
    "val_features= pd.read_csv('../Resources/val_features.csv')\n",
    "val_labels= pd.read_csv('../Resources/val_labels.csv', header=None)"
   ]
  },
  {
   "cell_type": "code",
   "execution_count": 14,
   "metadata": {},
   "outputs": [],
   "source": [
    "# Scale data\n",
    "from sklearn.preprocessing import MinMaxScaler\n",
    "X_scaler = MinMaxScaler().fit(tr_features)\n",
    "\n",
    "tr_features_scaled = X_scaler.transform(tr_features)\n",
    "test_features_scaled = X_scaler.transform(test_features)\n",
    "val_features_scaled = X_scaler.transform(val_features)"
   ]
  },
  {
   "cell_type": "code",
   "execution_count": 15,
   "metadata": {},
   "outputs": [],
   "source": [
    "def print_results(results):\n",
    "    print('BEST PARAMS: {}\\n'.format(results.best_params_))\n",
    "\n",
    "    means = results.cv_results_['mean_test_score']\n",
    "    stds = results.cv_results_['std_test_score']\n",
    "    for mean, std, params in zip(means, stds, results.cv_results_['params']):\n",
    "        print('{} (+/-{}) for {}'.format(round(mean, 3), round(std * 2, 3), params))"
   ]
  },
  {
   "cell_type": "code",
   "execution_count": 16,
   "metadata": {},
   "outputs": [
    {
     "name": "stdout",
     "output_type": "stream",
     "text": [
      "BEST PARAMS: {'max_depth': None, 'n_estimators': 250}\n",
      "\n",
      "0.744 (+/-0.059) for {'max_depth': 2, 'n_estimators': 5}\n",
      "0.726 (+/-0.087) for {'max_depth': 2, 'n_estimators': 50}\n",
      "0.696 (+/-0.039) for {'max_depth': 2, 'n_estimators': 250}\n",
      "0.821 (+/-0.036) for {'max_depth': 4, 'n_estimators': 5}\n",
      "0.853 (+/-0.013) for {'max_depth': 4, 'n_estimators': 50}\n",
      "0.85 (+/-0.008) for {'max_depth': 4, 'n_estimators': 250}\n",
      "0.86 (+/-0.03) for {'max_depth': 8, 'n_estimators': 5}\n",
      "0.877 (+/-0.017) for {'max_depth': 8, 'n_estimators': 50}\n",
      "0.881 (+/-0.019) for {'max_depth': 8, 'n_estimators': 250}\n",
      "0.86 (+/-0.008) for {'max_depth': 16, 'n_estimators': 5}\n",
      "0.881 (+/-0.023) for {'max_depth': 16, 'n_estimators': 50}\n",
      "0.885 (+/-0.02) for {'max_depth': 16, 'n_estimators': 250}\n",
      "0.857 (+/-0.043) for {'max_depth': 32, 'n_estimators': 5}\n",
      "0.881 (+/-0.022) for {'max_depth': 32, 'n_estimators': 50}\n",
      "0.886 (+/-0.019) for {'max_depth': 32, 'n_estimators': 250}\n",
      "0.855 (+/-0.014) for {'max_depth': None, 'n_estimators': 5}\n",
      "0.885 (+/-0.02) for {'max_depth': None, 'n_estimators': 50}\n",
      "0.887 (+/-0.022) for {'max_depth': None, 'n_estimators': 250}\n"
     ]
    }
   ],
   "source": [
    "rf = RandomForestClassifier()\n",
    "parameters = {\n",
    "    'n_estimators': [5, 50, 250],\n",
    "    'max_depth': [2, 4, 8, 16, 32, None]\n",
    "}\n",
    "\n",
    "cv = GridSearchCV(rf, parameters, cv=5)\n",
    "cv.fit(tr_features_scaled, tr_labels.values.ravel())\n",
    "\n",
    "print_results(cv)"
   ]
  },
  {
   "cell_type": "markdown",
   "metadata": {},
   "source": [
    "#### Write Model"
   ]
  },
  {
   "cell_type": "code",
   "execution_count": 17,
   "metadata": {},
   "outputs": [
    {
     "data": {
      "text/plain": [
       "['../Saved_model/RF_model.pkl']"
      ]
     },
     "execution_count": 17,
     "metadata": {},
     "output_type": "execute_result"
    }
   ],
   "source": [
    "joblib.dump(cv.best_estimator_,'../Saved_model/RF_model.pkl')"
   ]
  },
  {
   "cell_type": "markdown",
   "metadata": {},
   "source": [
    "#### Prediction on test data"
   ]
  },
  {
   "cell_type": "code",
   "execution_count": 18,
   "metadata": {},
   "outputs": [],
   "source": [
    "model_predict = joblib.load('../Saved_model/RF_model.pkl')\n",
    "\n",
    "Predicted = model_predict.predict(test_features_scaled[:20])\n",
    "Actual = (test_labels[:20]).values.ravel()"
   ]
  },
  {
   "cell_type": "code",
   "execution_count": 19,
   "metadata": {},
   "outputs": [
    {
     "data": {
      "text/html": [
       "<div>\n",
       "<style scoped>\n",
       "    .dataframe tbody tr th:only-of-type {\n",
       "        vertical-align: middle;\n",
       "    }\n",
       "\n",
       "    .dataframe tbody tr th {\n",
       "        vertical-align: top;\n",
       "    }\n",
       "\n",
       "    .dataframe thead th {\n",
       "        text-align: right;\n",
       "    }\n",
       "</style>\n",
       "<table border=\"1\" class=\"dataframe\">\n",
       "  <thead>\n",
       "    <tr style=\"text-align: right;\">\n",
       "      <th></th>\n",
       "      <th>Predicted</th>\n",
       "      <th>Actual</th>\n",
       "    </tr>\n",
       "  </thead>\n",
       "  <tbody>\n",
       "    <tr>\n",
       "      <th>0</th>\n",
       "      <td>2</td>\n",
       "      <td>2</td>\n",
       "    </tr>\n",
       "    <tr>\n",
       "      <th>1</th>\n",
       "      <td>0</td>\n",
       "      <td>0</td>\n",
       "    </tr>\n",
       "    <tr>\n",
       "      <th>2</th>\n",
       "      <td>2</td>\n",
       "      <td>2</td>\n",
       "    </tr>\n",
       "    <tr>\n",
       "      <th>3</th>\n",
       "      <td>0</td>\n",
       "      <td>0</td>\n",
       "    </tr>\n",
       "    <tr>\n",
       "      <th>4</th>\n",
       "      <td>1</td>\n",
       "      <td>1</td>\n",
       "    </tr>\n",
       "    <tr>\n",
       "      <th>5</th>\n",
       "      <td>2</td>\n",
       "      <td>2</td>\n",
       "    </tr>\n",
       "    <tr>\n",
       "      <th>6</th>\n",
       "      <td>1</td>\n",
       "      <td>1</td>\n",
       "    </tr>\n",
       "    <tr>\n",
       "      <th>7</th>\n",
       "      <td>1</td>\n",
       "      <td>0</td>\n",
       "    </tr>\n",
       "    <tr>\n",
       "      <th>8</th>\n",
       "      <td>2</td>\n",
       "      <td>2</td>\n",
       "    </tr>\n",
       "    <tr>\n",
       "      <th>9</th>\n",
       "      <td>2</td>\n",
       "      <td>2</td>\n",
       "    </tr>\n",
       "    <tr>\n",
       "      <th>10</th>\n",
       "      <td>2</td>\n",
       "      <td>2</td>\n",
       "    </tr>\n",
       "    <tr>\n",
       "      <th>11</th>\n",
       "      <td>1</td>\n",
       "      <td>1</td>\n",
       "    </tr>\n",
       "    <tr>\n",
       "      <th>12</th>\n",
       "      <td>2</td>\n",
       "      <td>2</td>\n",
       "    </tr>\n",
       "    <tr>\n",
       "      <th>13</th>\n",
       "      <td>0</td>\n",
       "      <td>0</td>\n",
       "    </tr>\n",
       "    <tr>\n",
       "      <th>14</th>\n",
       "      <td>0</td>\n",
       "      <td>0</td>\n",
       "    </tr>\n",
       "    <tr>\n",
       "      <th>15</th>\n",
       "      <td>1</td>\n",
       "      <td>0</td>\n",
       "    </tr>\n",
       "    <tr>\n",
       "      <th>16</th>\n",
       "      <td>2</td>\n",
       "      <td>2</td>\n",
       "    </tr>\n",
       "    <tr>\n",
       "      <th>17</th>\n",
       "      <td>2</td>\n",
       "      <td>2</td>\n",
       "    </tr>\n",
       "    <tr>\n",
       "      <th>18</th>\n",
       "      <td>2</td>\n",
       "      <td>2</td>\n",
       "    </tr>\n",
       "    <tr>\n",
       "      <th>19</th>\n",
       "      <td>2</td>\n",
       "      <td>2</td>\n",
       "    </tr>\n",
       "  </tbody>\n",
       "</table>\n",
       "</div>"
      ],
      "text/plain": [
       "    Predicted  Actual\n",
       "0           2       2\n",
       "1           0       0\n",
       "2           2       2\n",
       "3           0       0\n",
       "4           1       1\n",
       "5           2       2\n",
       "6           1       1\n",
       "7           1       0\n",
       "8           2       2\n",
       "9           2       2\n",
       "10          2       2\n",
       "11          1       1\n",
       "12          2       2\n",
       "13          0       0\n",
       "14          0       0\n",
       "15          1       0\n",
       "16          2       2\n",
       "17          2       2\n",
       "18          2       2\n",
       "19          2       2"
      ]
     },
     "execution_count": 19,
     "metadata": {},
     "output_type": "execute_result"
    }
   ],
   "source": [
    "Compare_df = pd.DataFrame({\n",
    "    \"Predicted\":Predicted,\n",
    "    \"Actual\": Actual\n",
    "})\n",
    "Compare_df"
   ]
  },
  {
   "cell_type": "markdown",
   "metadata": {},
   "source": [
    "#### Model validation"
   ]
  },
  {
   "cell_type": "code",
   "execution_count": 20,
   "metadata": {},
   "outputs": [],
   "source": [
    "from sklearn.metrics import accuracy_score, precision_score, recall_score\n",
    "from time import time\n",
    "\n",
    "def evaluate_model(name, model, features, labels):\n",
    "    start = time()\n",
    "    pred = model.predict(features)\n",
    "    end = time()\n",
    "    accuracy = round(accuracy_score(labels, pred), 3)\n",
    "    precision = round(precision_score(labels, pred, average='weighted'), 3)\n",
    "    recall = round(recall_score(labels, pred, average='weighted'), 3)\n",
    "    print('{} -- Accuracy: {} / Precision: {} / recall: {} /Latency: {}ms'.format(name,\n",
    "                                                                            accuracy,\n",
    "                                                                            precision,\n",
    "                                                                            recall,\n",
    "                                                                            round((end - start)*1000, 1)))"
   ]
  },
  {
   "cell_type": "code",
   "execution_count": 21,
   "metadata": {},
   "outputs": [
    {
     "name": "stdout",
     "output_type": "stream",
     "text": [
      "RandomForest Model -- Accuracy: 0.9 / Precision: 0.898 / recall: 0.9 /Latency: 66.8ms\n"
     ]
    }
   ],
   "source": [
    "evaluate_model('RandomForest Model', model_predict, val_features_scaled, val_labels)"
   ]
  },
  {
   "cell_type": "markdown",
   "metadata": {},
   "source": [
    "#### Identify important features"
   ]
  },
  {
   "cell_type": "code",
   "execution_count": 24,
   "metadata": {},
   "outputs": [],
   "source": [
    "model = rf.fit(tr_features_scaled, tr_labels.values.ravel())"
   ]
  },
  {
   "cell_type": "code",
   "execution_count": 31,
   "metadata": {},
   "outputs": [
    {
     "data": {
      "text/plain": [
       "0.8862660944206009"
      ]
     },
     "execution_count": 31,
     "metadata": {},
     "output_type": "execute_result"
    }
   ],
   "source": [
    "model.score(val_features_scaled, val_labels)"
   ]
  },
  {
   "cell_type": "code",
   "execution_count": 30,
   "metadata": {},
   "outputs": [
    {
     "data": {
      "text/plain": [
       "[(0.1140377052308948, 'koi_fpflag_co'),\n",
       " (0.1138772379000282, 'koi_fpflag_nt'),\n",
       " (0.09659282496352316, 'koi_fpflag_ss'),\n",
       " (0.05246118900252185, 'koi_prad'),\n",
       " (0.05122055567653152, 'koi_model_snr'),\n",
       " (0.039929815187422, 'koi_duration_err2'),\n",
       " (0.0355265776383385, 'koi_fpflag_ec'),\n",
       " (0.032584942404556734, 'koi_duration_err1'),\n",
       " (0.02779822528280117, 'koi_period'),\n",
       " (0.026666487656592186, 'koi_steff_err1'),\n",
       " (0.026013234156497922, 'koi_prad_err1'),\n",
       " (0.025410115170111196, 'koi_period_err1'),\n",
       " (0.022049492326514618, 'koi_duration'),\n",
       " (0.020795331693324044, 'koi_steff_err2'),\n",
       " (0.020170442529297276, 'koi_time0bk_err1'),\n",
       " (0.01735791893959158, 'koi_period_err2'),\n",
       " (0.017086671667242724, 'koi_impact'),\n",
       " (0.01694901574148288, 'koi_time0bk_err2'),\n",
       " (0.015801695160258273, 'koi_depth'),\n",
       " (0.015376275059825223, 'koi_insol'),\n",
       " (0.01526481680303845, 'koi_teq'),\n",
       " (0.0136673482729212, 'koi_insol_err2'),\n",
       " (0.013070354716246688, 'dec'),\n",
       " (0.012917627824695285, 'koi_slogg_err2'),\n",
       " (0.012362441436910124, 'koi_srad'),\n",
       " (0.012150483609602965, 'koi_depth_err2'),\n",
       " (0.01206534047802921, 'koi_kepmag'),\n",
       " (0.011625940114976824, 'koi_depth_err1'),\n",
       " (0.011123940151102449, 'ra'),\n",
       " (0.01090839756321605, 'koi_impact_err2'),\n",
       " (0.010582627230244177, 'koi_time0bk'),\n",
       " (0.010448181970574729, 'koi_insol_err1'),\n",
       " (0.010342542932532393, 'koi_srad_err1'),\n",
       " (0.009485466885356189, 'koi_srad_err2'),\n",
       " (0.009377670528800583, 'koi_slogg'),\n",
       " (0.008914923736085715, 'koi_prad_err2'),\n",
       " (0.008838720890069828, 'koi_steff'),\n",
       " (0.00860312982186311, 'koi_impact_err1'),\n",
       " (0.007656947398277508, 'koi_slogg_err1'),\n",
       " (0.002887344248100611, 'koi_tce_plnt_num')]"
      ]
     },
     "execution_count": 30,
     "metadata": {},
     "output_type": "execute_result"
    }
   ],
   "source": [
    "sorted(zip(model.feature_importances_, tr_features.columns), reverse=True)"
   ]
  },
  {
   "cell_type": "code",
   "execution_count": null,
   "metadata": {},
   "outputs": [],
   "source": []
  }
 ],
 "metadata": {
  "kernelspec": {
   "display_name": "Python 3",
   "language": "python",
   "name": "python3"
  },
  "language_info": {
   "codemirror_mode": {
    "name": "ipython",
    "version": 3
   },
   "file_extension": ".py",
   "mimetype": "text/x-python",
   "name": "python",
   "nbconvert_exporter": "python",
   "pygments_lexer": "ipython3",
   "version": "3.7.1"
  }
 },
 "nbformat": 4,
 "nbformat_minor": 2
}
