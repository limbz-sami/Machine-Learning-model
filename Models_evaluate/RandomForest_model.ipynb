{
 "cells": [
  {
   "cell_type": "markdown",
   "metadata": {},
   "source": [
    "## Random Forest"
   ]
  },
  {
   "cell_type": "markdown",
   "metadata": {},
   "source": [
    "#### Import Random Forest Algorithm for classification & Regression"
   ]
  },
  {
   "cell_type": "code",
   "execution_count": 1,
   "metadata": {},
   "outputs": [
    {
     "name": "stdout",
     "output_type": "stream",
     "text": [
      "RandomForestClassifier(bootstrap=True, class_weight=None, criterion='gini',\n",
      "            max_depth=None, max_features='auto', max_leaf_nodes=None,\n",
      "            min_impurity_decrease=0.0, min_impurity_split=None,\n",
      "            min_samples_leaf=1, min_samples_split=2,\n",
      "            min_weight_fraction_leaf=0.0, n_estimators='warn', n_jobs=None,\n",
      "            oob_score=False, random_state=None, verbose=0,\n",
      "            warm_start=False)\n",
      "RandomForestRegressor(bootstrap=True, criterion='mse', max_depth=None,\n",
      "           max_features='auto', max_leaf_nodes=None,\n",
      "           min_impurity_decrease=0.0, min_impurity_split=None,\n",
      "           min_samples_leaf=1, min_samples_split=2,\n",
      "           min_weight_fraction_leaf=0.0, n_estimators='warn', n_jobs=None,\n",
      "           oob_score=False, random_state=None, verbose=0, warm_start=False)\n"
     ]
    }
   ],
   "source": [
    "from sklearn.ensemble import RandomForestClassifier, RandomForestRegressor\n",
    "\n",
    "print(RandomForestClassifier())\n",
    "print(RandomForestRegressor())"
   ]
  },
  {
   "cell_type": "code",
   "execution_count": 2,
   "metadata": {},
   "outputs": [],
   "source": [
    "import joblib\n",
    "import pandas as pd\n",
    "from sklearn.model_selection import GridSearchCV\n",
    "\n",
    "import warnings\n",
    "from sklearn.exceptions import DataConversionWarning\n",
    "warnings.filterwarnings('ignore', category=FutureWarning)\n",
    "warnings.filterwarnings('ignore', category=DeprecationWarning)\n",
    "warnings.filterwarnings('ignore', category=DataConversionWarning)\n",
    "\n",
    "tr_features = pd.read_csv('../Resources/train_features.csv')\n",
    "tr_labels = pd.read_csv('../Resources/train_labels.csv', header=None)\n",
    "test_features = pd.read_csv('../Resources/test_features.csv')\n",
    "test_labels = pd.read_csv('../Resources/test_labels.csv', header=None)\n",
    "val_features= pd.read_csv('../Resources/val_features.csv')\n",
    "val_labels= pd.read_csv('../Resources/val_labels.csv', header=None)"
   ]
  },
  {
   "cell_type": "code",
   "execution_count": 3,
   "metadata": {},
   "outputs": [],
   "source": [
    "# Scale data\n",
    "from sklearn.preprocessing import MinMaxScaler\n",
    "X_scaler = MinMaxScaler().fit(tr_features)\n",
    "\n",
    "tr_features_scaled = X_scaler.transform(tr_features)\n",
    "test_features_scaled = X_scaler.transform(test_features)\n",
    "val_features_scaled = X_scaler.transform(val_features)"
   ]
  },
  {
   "cell_type": "code",
   "execution_count": 4,
   "metadata": {},
   "outputs": [],
   "source": [
    "def print_results(results):\n",
    "    print('BEST PARAMS: {}\\n'.format(results.best_params_))\n",
    "\n",
    "    means = results.cv_results_['mean_test_score']\n",
    "    stds = results.cv_results_['std_test_score']\n",
    "    for mean, std, params in zip(means, stds, results.cv_results_['params']):\n",
    "        print('{} (+/-{}) for {}'.format(round(mean, 3), round(std * 2, 3), params))"
   ]
  },
  {
   "cell_type": "code",
   "execution_count": 5,
   "metadata": {},
   "outputs": [
    {
     "name": "stdout",
     "output_type": "stream",
     "text": [
      "BEST PARAMS: {'max_depth': 16, 'n_estimators': 50}\n",
      "\n",
      "0.691 (+/-0.033) for {'max_depth': 2, 'n_estimators': 5}\n",
      "0.725 (+/-0.095) for {'max_depth': 2, 'n_estimators': 50}\n",
      "0.695 (+/-0.052) for {'max_depth': 2, 'n_estimators': 250}\n",
      "0.837 (+/-0.017) for {'max_depth': 4, 'n_estimators': 5}\n",
      "0.846 (+/-0.011) for {'max_depth': 4, 'n_estimators': 50}\n",
      "0.847 (+/-0.01) for {'max_depth': 4, 'n_estimators': 250}\n",
      "0.858 (+/-0.014) for {'max_depth': 8, 'n_estimators': 5}\n",
      "0.88 (+/-0.018) for {'max_depth': 8, 'n_estimators': 50}\n",
      "0.879 (+/-0.019) for {'max_depth': 8, 'n_estimators': 250}\n",
      "0.856 (+/-0.042) for {'max_depth': 16, 'n_estimators': 5}\n",
      "0.889 (+/-0.019) for {'max_depth': 16, 'n_estimators': 50}\n",
      "0.888 (+/-0.022) for {'max_depth': 16, 'n_estimators': 250}\n",
      "0.856 (+/-0.025) for {'max_depth': 32, 'n_estimators': 5}\n",
      "0.882 (+/-0.018) for {'max_depth': 32, 'n_estimators': 50}\n",
      "0.884 (+/-0.015) for {'max_depth': 32, 'n_estimators': 250}\n",
      "0.855 (+/-0.014) for {'max_depth': None, 'n_estimators': 5}\n",
      "0.887 (+/-0.021) for {'max_depth': None, 'n_estimators': 50}\n",
      "0.887 (+/-0.021) for {'max_depth': None, 'n_estimators': 250}\n"
     ]
    }
   ],
   "source": [
    "rf = RandomForestClassifier()\n",
    "parameters = {\n",
    "    'n_estimators': [5, 50, 250],\n",
    "    'max_depth': [2, 4, 8, 16, 32, None]\n",
    "}\n",
    "\n",
    "cv = GridSearchCV(rf, parameters, cv=5)\n",
    "cv.fit(tr_features_scaled, tr_labels.values.ravel())\n",
    "\n",
    "print_results(cv)"
   ]
  },
  {
   "cell_type": "markdown",
   "metadata": {},
   "source": [
    "#### Write Model"
   ]
  },
  {
   "cell_type": "code",
   "execution_count": 6,
   "metadata": {},
   "outputs": [
    {
     "data": {
      "text/plain": [
       "['../Saved_model/RF_model.pkl']"
      ]
     },
     "execution_count": 6,
     "metadata": {},
     "output_type": "execute_result"
    }
   ],
   "source": [
    "joblib.dump(cv.best_estimator_,'../Saved_model/RF_model.pkl')"
   ]
  },
  {
   "cell_type": "markdown",
   "metadata": {},
   "source": [
    "#### Prediction on test data"
   ]
  },
  {
   "cell_type": "code",
   "execution_count": 7,
   "metadata": {},
   "outputs": [],
   "source": [
    "model_predict = joblib.load('../Saved_model/RF_model.pkl')\n",
    "\n",
    "Predicted = model_predict.predict(test_features_scaled[:20])\n",
    "Actual = (test_labels[:20]).values.ravel()"
   ]
  },
  {
   "cell_type": "code",
   "execution_count": 8,
   "metadata": {},
   "outputs": [
    {
     "data": {
      "text/html": [
       "<div>\n",
       "<style scoped>\n",
       "    .dataframe tbody tr th:only-of-type {\n",
       "        vertical-align: middle;\n",
       "    }\n",
       "\n",
       "    .dataframe tbody tr th {\n",
       "        vertical-align: top;\n",
       "    }\n",
       "\n",
       "    .dataframe thead th {\n",
       "        text-align: right;\n",
       "    }\n",
       "</style>\n",
       "<table border=\"1\" class=\"dataframe\">\n",
       "  <thead>\n",
       "    <tr style=\"text-align: right;\">\n",
       "      <th></th>\n",
       "      <th>Predicted</th>\n",
       "      <th>Actual</th>\n",
       "    </tr>\n",
       "  </thead>\n",
       "  <tbody>\n",
       "    <tr>\n",
       "      <th>0</th>\n",
       "      <td>2</td>\n",
       "      <td>2</td>\n",
       "    </tr>\n",
       "    <tr>\n",
       "      <th>1</th>\n",
       "      <td>0</td>\n",
       "      <td>0</td>\n",
       "    </tr>\n",
       "    <tr>\n",
       "      <th>2</th>\n",
       "      <td>2</td>\n",
       "      <td>2</td>\n",
       "    </tr>\n",
       "    <tr>\n",
       "      <th>3</th>\n",
       "      <td>0</td>\n",
       "      <td>0</td>\n",
       "    </tr>\n",
       "    <tr>\n",
       "      <th>4</th>\n",
       "      <td>1</td>\n",
       "      <td>1</td>\n",
       "    </tr>\n",
       "    <tr>\n",
       "      <th>5</th>\n",
       "      <td>2</td>\n",
       "      <td>2</td>\n",
       "    </tr>\n",
       "    <tr>\n",
       "      <th>6</th>\n",
       "      <td>1</td>\n",
       "      <td>1</td>\n",
       "    </tr>\n",
       "    <tr>\n",
       "      <th>7</th>\n",
       "      <td>0</td>\n",
       "      <td>0</td>\n",
       "    </tr>\n",
       "    <tr>\n",
       "      <th>8</th>\n",
       "      <td>2</td>\n",
       "      <td>2</td>\n",
       "    </tr>\n",
       "    <tr>\n",
       "      <th>9</th>\n",
       "      <td>2</td>\n",
       "      <td>2</td>\n",
       "    </tr>\n",
       "    <tr>\n",
       "      <th>10</th>\n",
       "      <td>2</td>\n",
       "      <td>2</td>\n",
       "    </tr>\n",
       "    <tr>\n",
       "      <th>11</th>\n",
       "      <td>1</td>\n",
       "      <td>1</td>\n",
       "    </tr>\n",
       "    <tr>\n",
       "      <th>12</th>\n",
       "      <td>2</td>\n",
       "      <td>2</td>\n",
       "    </tr>\n",
       "    <tr>\n",
       "      <th>13</th>\n",
       "      <td>0</td>\n",
       "      <td>0</td>\n",
       "    </tr>\n",
       "    <tr>\n",
       "      <th>14</th>\n",
       "      <td>0</td>\n",
       "      <td>0</td>\n",
       "    </tr>\n",
       "    <tr>\n",
       "      <th>15</th>\n",
       "      <td>1</td>\n",
       "      <td>0</td>\n",
       "    </tr>\n",
       "    <tr>\n",
       "      <th>16</th>\n",
       "      <td>2</td>\n",
       "      <td>2</td>\n",
       "    </tr>\n",
       "    <tr>\n",
       "      <th>17</th>\n",
       "      <td>2</td>\n",
       "      <td>2</td>\n",
       "    </tr>\n",
       "    <tr>\n",
       "      <th>18</th>\n",
       "      <td>2</td>\n",
       "      <td>2</td>\n",
       "    </tr>\n",
       "    <tr>\n",
       "      <th>19</th>\n",
       "      <td>2</td>\n",
       "      <td>2</td>\n",
       "    </tr>\n",
       "  </tbody>\n",
       "</table>\n",
       "</div>"
      ],
      "text/plain": [
       "    Predicted  Actual\n",
       "0           2       2\n",
       "1           0       0\n",
       "2           2       2\n",
       "3           0       0\n",
       "4           1       1\n",
       "5           2       2\n",
       "6           1       1\n",
       "7           0       0\n",
       "8           2       2\n",
       "9           2       2\n",
       "10          2       2\n",
       "11          1       1\n",
       "12          2       2\n",
       "13          0       0\n",
       "14          0       0\n",
       "15          1       0\n",
       "16          2       2\n",
       "17          2       2\n",
       "18          2       2\n",
       "19          2       2"
      ]
     },
     "execution_count": 8,
     "metadata": {},
     "output_type": "execute_result"
    }
   ],
   "source": [
    "Compare_df = pd.DataFrame({\n",
    "    \"Predicted\":Predicted,\n",
    "    \"Actual\": Actual\n",
    "})\n",
    "Compare_df"
   ]
  },
  {
   "cell_type": "markdown",
   "metadata": {},
   "source": [
    "#### Model validation"
   ]
  },
  {
   "cell_type": "code",
   "execution_count": 9,
   "metadata": {},
   "outputs": [],
   "source": [
    "from sklearn.metrics import accuracy_score, precision_score, recall_score\n",
    "from time import time\n",
    "\n",
    "def evaluate_model(name, model, features, labels):\n",
    "    start = time()\n",
    "    pred = model.predict(features)\n",
    "    end = time()\n",
    "    accuracy = round(accuracy_score(labels, pred), 3)\n",
    "    precision = round(precision_score(labels, pred, average='weighted'), 3)\n",
    "    recall = round(recall_score(labels, pred, average='weighted'), 3)\n",
    "    print('{} -- Accuracy: {} / Precision: {} / recall: {} /Latency: {}ms'.format(name,\n",
    "                                                                            accuracy,\n",
    "                                                                            precision,\n",
    "                                                                            recall,\n",
    "                                                                            round((end - start)*1000, 1)))"
   ]
  },
  {
   "cell_type": "code",
   "execution_count": 10,
   "metadata": {},
   "outputs": [
    {
     "name": "stdout",
     "output_type": "stream",
     "text": [
      "RandomForest Model -- Accuracy: 0.894 / Precision: 0.892 / recall: 0.894 /Latency: 18.9ms\n"
     ]
    }
   ],
   "source": [
    "evaluate_model('RandomForest Model', model_predict, val_features_scaled, val_labels)"
   ]
  },
  {
   "cell_type": "markdown",
   "metadata": {},
   "source": [
    "#### Identify important features"
   ]
  },
  {
   "cell_type": "code",
   "execution_count": 11,
   "metadata": {},
   "outputs": [],
   "source": [
    "model = rf.fit(tr_features_scaled, tr_labels.values.ravel())"
   ]
  },
  {
   "cell_type": "code",
   "execution_count": 12,
   "metadata": {},
   "outputs": [
    {
     "data": {
      "text/plain": [
       "0.8848354792560801"
      ]
     },
     "execution_count": 12,
     "metadata": {},
     "output_type": "execute_result"
    }
   ],
   "source": [
    "model.score(val_features_scaled, val_labels)"
   ]
  },
  {
   "cell_type": "code",
   "execution_count": 13,
   "metadata": {},
   "outputs": [
    {
     "data": {
      "text/plain": [
       "[(0.10885209884705363, 'koi_fpflag_co'),\n",
       " (0.10164997383787039, 'koi_fpflag_nt'),\n",
       " (0.07802953769391892, 'koi_fpflag_ss'),\n",
       " (0.05396039188006713, 'koi_model_snr'),\n",
       " (0.04102349400398717, 'koi_duration_err1'),\n",
       " (0.038524083624572894, 'koi_prad'),\n",
       " (0.03842262698773389, 'koi_steff_err1'),\n",
       " (0.036718760122182684, 'koi_fpflag_ec'),\n",
       " (0.03589464152241931, 'koi_prad_err2'),\n",
       " (0.03165683251171419, 'koi_prad_err1'),\n",
       " (0.026124045035737665, 'koi_steff_err2'),\n",
       " (0.024733907874489574, 'koi_duration_err2'),\n",
       " (0.023601615500605962, 'koi_insol_err1'),\n",
       " (0.023372521691035413, 'koi_depth'),\n",
       " (0.02150565301292849, 'koi_period'),\n",
       " (0.021474190425928616, 'koi_time0bk_err1'),\n",
       " (0.0213252067302916, 'koi_period_err1'),\n",
       " (0.021072732903001445, 'koi_impact'),\n",
       " (0.020591660537256834, 'koi_time0bk_err2'),\n",
       " (0.0198449298862353, 'koi_duration'),\n",
       " (0.016508133866815437, 'koi_period_err2'),\n",
       " (0.01460164958829317, 'koi_insol'),\n",
       " (0.014084407129838002, 'koi_teq'),\n",
       " (0.013565306974938398, 'koi_time0bk'),\n",
       " (0.012588086087605215, 'koi_insol_err2'),\n",
       " (0.01190279285082477, 'koi_depth_err1'),\n",
       " (0.011692824499502657, 'dec'),\n",
       " (0.01128801721558492, 'koi_depth_err2'),\n",
       " (0.010533635744535974, 'ra'),\n",
       " (0.010520188356760107, 'koi_impact_err2'),\n",
       " (0.0104646710799537, 'koi_kepmag'),\n",
       " (0.010151726499741156, 'koi_steff'),\n",
       " (0.010106195601688935, 'koi_impact_err1'),\n",
       " (0.009555413200953055, 'koi_srad_err1'),\n",
       " (0.00900333835451444, 'koi_srad'),\n",
       " (0.008697167604100659, 'koi_srad_err2'),\n",
       " (0.008589816724873234, 'koi_slogg_err2'),\n",
       " (0.008024070187158968, 'koi_slogg_err1'),\n",
       " (0.007440594221674179, 'koi_slogg'),\n",
       " (0.0023030595816118755, 'koi_tce_plnt_num')]"
      ]
     },
     "execution_count": 13,
     "metadata": {},
     "output_type": "execute_result"
    }
   ],
   "source": [
    "sorted(zip(model_predict.feature_importances_, tr_features.columns), reverse=True)"
   ]
  },
  {
   "cell_type": "code",
   "execution_count": null,
   "metadata": {},
   "outputs": [],
   "source": []
  }
 ],
 "metadata": {
  "kernelspec": {
   "display_name": "Python 3",
   "language": "python",
   "name": "python3"
  },
  "language_info": {
   "codemirror_mode": {
    "name": "ipython",
    "version": 3
   },
   "file_extension": ".py",
   "mimetype": "text/x-python",
   "name": "python",
   "nbconvert_exporter": "python",
   "pygments_lexer": "ipython3",
   "version": "3.7.1"
  }
 },
 "nbformat": 4,
 "nbformat_minor": 2
}
