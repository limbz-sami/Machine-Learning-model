{
 "cells": [
  {
   "cell_type": "markdown",
   "metadata": {},
   "source": [
    "## DeepLearning Model"
   ]
  },
  {
   "cell_type": "markdown",
   "metadata": {},
   "source": [
    "#### Import libraries"
   ]
  },
  {
   "cell_type": "code",
   "execution_count": 4,
   "metadata": {},
   "outputs": [],
   "source": [
    "import joblib\n",
    "import pandas as pd\n",
    "import sklearn\n",
    "#import sklearn.datasets\n",
    "from keras.models import Sequential\n",
    "from keras.layers import Dense\n",
    "import warnings\n",
    "\n",
    "from sklearn.exceptions import DataConversionWarning\n",
    "warnings.filterwarnings('ignore', category=FutureWarning)\n",
    "warnings.filterwarnings('ignore', category=DeprecationWarning)\n",
    "warnings.filterwarnings('ignore', category=DataConversionWarning)\n",
    "\n",
    "tr_features = pd.read_csv('../Resources/train_features.csv')\n",
    "tr_labels = pd.read_csv('../Resources/train_labels.csv', header=None)\n",
    "test_features = pd.read_csv('../Resources/test_features.csv')\n",
    "test_labels = pd.read_csv('../Resources/test_labels.csv', header=None)\n",
    "\n",
    "val_features = pd.read_csv('../Resources/val_features.csv')\n",
    "val_labels = pd.read_csv('../Resources/val_labels.csv', header=None)"
   ]
  },
  {
   "cell_type": "code",
   "execution_count": 3,
   "metadata": {},
   "outputs": [],
   "source": [
    "def print_results(results):\n",
    "    print('BEST PARAMS: {}\\n'.format(results.best_params_))\n",
    "\n",
    "    means = results.cv_results_['mean_test_score']\n",
    "    stds = results.cv_results_['std_test_score']\n",
    "    for mean, std, params in zip(means, stds, results.cv_results_['params']):\n",
    "        print('{} (+/-{}) for {}'.format(round(mean, 3), round(std * 2, 3), params))"
   ]
  },
  {
   "cell_type": "code",
   "execution_count": 5,
   "metadata": {},
   "outputs": [],
   "source": [
    "from sklearn.preprocessing import MinMaxScaler\n",
    "\n",
    "X_scaler = MinMaxScaler().fit(tr_features)\n",
    "X_train_scaled = X_scaler.transform(tr_features)\n",
    "X_test_scaled = X_scaler.transform(test_features)\n",
    "X_val_scaled = X_scaler.transform(val_features)"
   ]
  },
  {
   "cell_type": "markdown",
   "metadata": {},
   "source": [
    "#### Train Model"
   ]
  },
  {
   "cell_type": "code",
   "execution_count": 6,
   "metadata": {},
   "outputs": [
    {
     "name": "stdout",
     "output_type": "stream",
     "text": [
      "WARNING:tensorflow:From C:\\Users\\Samita\\Anaconda3\\lib\\site-packages\\tensorflow\\python\\ops\\resource_variable_ops.py:435: colocate_with (from tensorflow.python.framework.ops) is deprecated and will be removed in a future version.\n",
      "Instructions for updating:\n",
      "Colocations handled automatically by placer.\n"
     ]
    }
   ],
   "source": [
    "model = Sequential()\n",
    "model.add(Dense(units=100, activation='relu', input_dim=40))\n",
    "model.add(Dense(units=100, activation='relu', input_dim=40))\n",
    "model.add(Dense(units=3, activation='softmax'))"
   ]
  },
  {
   "cell_type": "code",
   "execution_count": 7,
   "metadata": {},
   "outputs": [
    {
     "name": "stdout",
     "output_type": "stream",
     "text": [
      "Model: \"sequential_1\"\n",
      "_________________________________________________________________\n",
      "Layer (type)                 Output Shape              Param #   \n",
      "=================================================================\n",
      "dense_1 (Dense)              (None, 100)               4100      \n",
      "_________________________________________________________________\n",
      "dense_2 (Dense)              (None, 100)               10100     \n",
      "_________________________________________________________________\n",
      "dense_3 (Dense)              (None, 3)                 303       \n",
      "=================================================================\n",
      "Total params: 14,503\n",
      "Trainable params: 14,503\n",
      "Non-trainable params: 0\n",
      "_________________________________________________________________\n"
     ]
    }
   ],
   "source": [
    "#sparse_categorical_crossentropy was used because of multiple levels of the y-value (0, 1, 2)\n",
    "model.compile(optimizer='adam',\n",
    "             loss='sparse_categorical_crossentropy',\n",
    "             metrics=['accuracy'])\n",
    "model.summary()"
   ]
  },
  {
   "cell_type": "code",
   "execution_count": 8,
   "metadata": {},
   "outputs": [
    {
     "name": "stdout",
     "output_type": "stream",
     "text": [
      "Epoch 1/60\n",
      " - 1s - loss: 0.6226 - accuracy: 0.6800\n",
      "Epoch 2/60\n",
      " - 0s - loss: 0.3684 - accuracy: 0.8107\n",
      "Epoch 3/60\n",
      " - 0s - loss: 0.3528 - accuracy: 0.8135\n",
      "Epoch 4/60\n",
      " - 0s - loss: 0.3502 - accuracy: 0.8331\n",
      "Epoch 5/60\n",
      " - 0s - loss: 0.3345 - accuracy: 0.8336\n",
      "Epoch 6/60\n",
      " - 0s - loss: 0.3292 - accuracy: 0.8331\n",
      "Epoch 7/60\n",
      " - 0s - loss: 0.3220 - accuracy: 0.8448\n",
      "Epoch 8/60\n",
      " - 0s - loss: 0.3178 - accuracy: 0.8484\n",
      "Epoch 9/60\n",
      " - 0s - loss: 0.3079 - accuracy: 0.8569\n",
      "Epoch 10/60\n",
      " - 0s - loss: 0.3111 - accuracy: 0.8617\n",
      "Epoch 11/60\n",
      " - 0s - loss: 0.3118 - accuracy: 0.8510\n",
      "Epoch 12/60\n",
      " - 0s - loss: 0.3162 - accuracy: 0.8498\n",
      "Epoch 13/60\n",
      " - 0s - loss: 0.3032 - accuracy: 0.8636\n",
      "Epoch 14/60\n",
      " - 0s - loss: 0.3004 - accuracy: 0.8643\n",
      "Epoch 15/60\n",
      " - 0s - loss: 0.2969 - accuracy: 0.8660\n",
      "Epoch 16/60\n",
      " - 0s - loss: 0.2999 - accuracy: 0.8646\n",
      "Epoch 17/60\n",
      " - 0s - loss: 0.2903 - accuracy: 0.8696\n",
      "Epoch 18/60\n",
      " - 0s - loss: 0.2903 - accuracy: 0.8689\n",
      "Epoch 19/60\n",
      " - 0s - loss: 0.2880 - accuracy: 0.8686\n",
      "Epoch 20/60\n",
      " - 0s - loss: 0.2921 - accuracy: 0.8667\n",
      "Epoch 21/60\n",
      " - 0s - loss: 0.2912 - accuracy: 0.8677\n",
      "Epoch 22/60\n",
      " - 0s - loss: 0.2872 - accuracy: 0.8698\n",
      "Epoch 23/60\n",
      " - 0s - loss: 0.2867 - accuracy: 0.8693\n",
      "Epoch 24/60\n",
      " - 0s - loss: 0.2863 - accuracy: 0.8672\n",
      "Epoch 25/60\n",
      " - 0s - loss: 0.2859 - accuracy: 0.8710\n",
      "Epoch 26/60\n",
      " - 0s - loss: 0.2776 - accuracy: 0.8741\n",
      "Epoch 27/60\n",
      " - 0s - loss: 0.2850 - accuracy: 0.8689\n",
      "Epoch 28/60\n",
      " - 0s - loss: 0.2765 - accuracy: 0.8765\n",
      "Epoch 29/60\n",
      " - 0s - loss: 0.2767 - accuracy: 0.8767\n",
      "Epoch 30/60\n",
      " - 0s - loss: 0.2813 - accuracy: 0.8741\n",
      "Epoch 31/60\n",
      " - 0s - loss: 0.2750 - accuracy: 0.8798\n",
      "Epoch 32/60\n",
      " - 0s - loss: 0.2718 - accuracy: 0.8784\n",
      "Epoch 33/60\n",
      " - 0s - loss: 0.2743 - accuracy: 0.8774\n",
      "Epoch 34/60\n",
      " - 0s - loss: 0.2737 - accuracy: 0.8779\n",
      "Epoch 35/60\n",
      " - 0s - loss: 0.2765 - accuracy: 0.8748\n",
      "Epoch 36/60\n",
      " - 0s - loss: 0.2702 - accuracy: 0.8767\n",
      "Epoch 37/60\n",
      " - 0s - loss: 0.2644 - accuracy: 0.8853\n",
      "Epoch 38/60\n",
      " - 0s - loss: 0.2678 - accuracy: 0.8782\n",
      "Epoch 39/60\n",
      " - 0s - loss: 0.2635 - accuracy: 0.8796\n",
      "Epoch 40/60\n",
      " - 0s - loss: 0.2776 - accuracy: 0.8712\n",
      "Epoch 41/60\n",
      " - 0s - loss: 0.2638 - accuracy: 0.8810\n",
      "Epoch 42/60\n",
      " - 0s - loss: 0.2628 - accuracy: 0.8815\n",
      "Epoch 43/60\n",
      " - 0s - loss: 0.2623 - accuracy: 0.8853\n",
      "Epoch 44/60\n",
      " - 0s - loss: 0.2590 - accuracy: 0.8863\n",
      "Epoch 45/60\n",
      " - 0s - loss: 0.2627 - accuracy: 0.8798\n",
      "Epoch 46/60\n",
      " - 0s - loss: 0.2581 - accuracy: 0.8848\n",
      "Epoch 47/60\n",
      " - 0s - loss: 0.2605 - accuracy: 0.8853\n",
      "Epoch 48/60\n",
      " - 0s - loss: 0.2575 - accuracy: 0.8836\n",
      "Epoch 49/60\n",
      " - 0s - loss: 0.2549 - accuracy: 0.8865\n",
      "Epoch 50/60\n",
      " - 0s - loss: 0.2531 - accuracy: 0.8879\n",
      "Epoch 51/60\n",
      " - 0s - loss: 0.2512 - accuracy: 0.8877\n",
      "Epoch 52/60\n",
      " - 0s - loss: 0.2542 - accuracy: 0.8860\n",
      "Epoch 53/60\n",
      " - 0s - loss: 0.2570 - accuracy: 0.8844\n",
      "Epoch 54/60\n",
      " - 0s - loss: 0.2471 - accuracy: 0.8877\n",
      "Epoch 55/60\n",
      " - 0s - loss: 0.2464 - accuracy: 0.8929\n",
      "Epoch 56/60\n",
      " - 0s - loss: 0.2508 - accuracy: 0.8889\n",
      "Epoch 57/60\n",
      " - 0s - loss: 0.2452 - accuracy: 0.8903\n",
      "Epoch 58/60\n",
      " - 0s - loss: 0.2487 - accuracy: 0.8887\n",
      "Epoch 59/60\n",
      " - 0s - loss: 0.2465 - accuracy: 0.8915\n",
      "Epoch 60/60\n",
      " - 0s - loss: 0.2472 - accuracy: 0.8898\n"
     ]
    },
    {
     "data": {
      "text/plain": [
       "<keras.callbacks.callbacks.History at 0x15af8e567f0>"
      ]
     },
     "execution_count": 8,
     "metadata": {},
     "output_type": "execute_result"
    }
   ],
   "source": [
    "model.fit(\n",
    "X_train_scaled,\n",
    "tr_labels.values,\n",
    "epochs=60,\n",
    "shuffle=True,\n",
    "verbose=2\n",
    ")"
   ]
  },
  {
   "cell_type": "markdown",
   "metadata": {},
   "source": [
    "#### Model evaluation and Prediction on test-data"
   ]
  },
  {
   "cell_type": "code",
   "execution_count": 9,
   "metadata": {},
   "outputs": [
    {
     "name": "stdout",
     "output_type": "stream",
     "text": [
      "result_df Neural Network - Loss: 0.25757277811783563, Accuracy: 0.8956397175788879\n"
     ]
    }
   ],
   "source": [
    "model_loss, model_accuracy = model.evaluate(\n",
    "    X_test_scaled, test_labels, verbose=2)\n",
    "print(\n",
    "    f\"result_df Neural Network - Loss: {model_loss}, Accuracy: {model_accuracy}\")"
   ]
  },
  {
   "cell_type": "code",
   "execution_count": 10,
   "metadata": {},
   "outputs": [],
   "source": [
    "encoded_predictions = model.predict_classes(X_test_scaled[:20])\n",
    "Actual_label = (test_labels[:20]).values.ravel()"
   ]
  },
  {
   "cell_type": "code",
   "execution_count": 11,
   "metadata": {},
   "outputs": [
    {
     "data": {
      "text/html": [
       "<div>\n",
       "<style scoped>\n",
       "    .dataframe tbody tr th:only-of-type {\n",
       "        vertical-align: middle;\n",
       "    }\n",
       "\n",
       "    .dataframe tbody tr th {\n",
       "        vertical-align: top;\n",
       "    }\n",
       "\n",
       "    .dataframe thead th {\n",
       "        text-align: right;\n",
       "    }\n",
       "</style>\n",
       "<table border=\"1\" class=\"dataframe\">\n",
       "  <thead>\n",
       "    <tr style=\"text-align: right;\">\n",
       "      <th></th>\n",
       "      <th>Prediction</th>\n",
       "      <th>Actual</th>\n",
       "    </tr>\n",
       "  </thead>\n",
       "  <tbody>\n",
       "    <tr>\n",
       "      <th>0</th>\n",
       "      <td>2</td>\n",
       "      <td>2</td>\n",
       "    </tr>\n",
       "    <tr>\n",
       "      <th>1</th>\n",
       "      <td>0</td>\n",
       "      <td>0</td>\n",
       "    </tr>\n",
       "    <tr>\n",
       "      <th>2</th>\n",
       "      <td>2</td>\n",
       "      <td>2</td>\n",
       "    </tr>\n",
       "    <tr>\n",
       "      <th>3</th>\n",
       "      <td>0</td>\n",
       "      <td>0</td>\n",
       "    </tr>\n",
       "    <tr>\n",
       "      <th>4</th>\n",
       "      <td>0</td>\n",
       "      <td>1</td>\n",
       "    </tr>\n",
       "    <tr>\n",
       "      <th>5</th>\n",
       "      <td>2</td>\n",
       "      <td>2</td>\n",
       "    </tr>\n",
       "    <tr>\n",
       "      <th>6</th>\n",
       "      <td>1</td>\n",
       "      <td>1</td>\n",
       "    </tr>\n",
       "    <tr>\n",
       "      <th>7</th>\n",
       "      <td>0</td>\n",
       "      <td>0</td>\n",
       "    </tr>\n",
       "    <tr>\n",
       "      <th>8</th>\n",
       "      <td>2</td>\n",
       "      <td>2</td>\n",
       "    </tr>\n",
       "    <tr>\n",
       "      <th>9</th>\n",
       "      <td>2</td>\n",
       "      <td>2</td>\n",
       "    </tr>\n",
       "    <tr>\n",
       "      <th>10</th>\n",
       "      <td>2</td>\n",
       "      <td>2</td>\n",
       "    </tr>\n",
       "    <tr>\n",
       "      <th>11</th>\n",
       "      <td>1</td>\n",
       "      <td>1</td>\n",
       "    </tr>\n",
       "    <tr>\n",
       "      <th>12</th>\n",
       "      <td>2</td>\n",
       "      <td>2</td>\n",
       "    </tr>\n",
       "    <tr>\n",
       "      <th>13</th>\n",
       "      <td>1</td>\n",
       "      <td>0</td>\n",
       "    </tr>\n",
       "    <tr>\n",
       "      <th>14</th>\n",
       "      <td>0</td>\n",
       "      <td>0</td>\n",
       "    </tr>\n",
       "    <tr>\n",
       "      <th>15</th>\n",
       "      <td>1</td>\n",
       "      <td>0</td>\n",
       "    </tr>\n",
       "    <tr>\n",
       "      <th>16</th>\n",
       "      <td>2</td>\n",
       "      <td>2</td>\n",
       "    </tr>\n",
       "    <tr>\n",
       "      <th>17</th>\n",
       "      <td>2</td>\n",
       "      <td>2</td>\n",
       "    </tr>\n",
       "    <tr>\n",
       "      <th>18</th>\n",
       "      <td>2</td>\n",
       "      <td>2</td>\n",
       "    </tr>\n",
       "    <tr>\n",
       "      <th>19</th>\n",
       "      <td>2</td>\n",
       "      <td>2</td>\n",
       "    </tr>\n",
       "  </tbody>\n",
       "</table>\n",
       "</div>"
      ],
      "text/plain": [
       "    Prediction  Actual\n",
       "0            2       2\n",
       "1            0       0\n",
       "2            2       2\n",
       "3            0       0\n",
       "4            0       1\n",
       "5            2       2\n",
       "6            1       1\n",
       "7            0       0\n",
       "8            2       2\n",
       "9            2       2\n",
       "10           2       2\n",
       "11           1       1\n",
       "12           2       2\n",
       "13           1       0\n",
       "14           0       0\n",
       "15           1       0\n",
       "16           2       2\n",
       "17           2       2\n",
       "18           2       2\n",
       "19           2       2"
      ]
     },
     "execution_count": 11,
     "metadata": {},
     "output_type": "execute_result"
    }
   ],
   "source": [
    "result_df = pd.DataFrame({\n",
    "    'Prediction': encoded_predictions,\n",
    "    'Actual': Actual_label\n",
    "})\n",
    "result_df"
   ]
  },
  {
   "cell_type": "markdown",
   "metadata": {},
   "source": [
    "#### Write Model"
   ]
  },
  {
   "cell_type": "code",
   "execution_count": 14,
   "metadata": {},
   "outputs": [
    {
     "data": {
      "text/plain": [
       "['../Saved_model/DL_model.pkl']"
      ]
     },
     "execution_count": 14,
     "metadata": {},
     "output_type": "execute_result"
    }
   ],
   "source": [
    "joblib.dump(model, '../Saved_model/DL_model.pkl')"
   ]
  },
  {
   "cell_type": "markdown",
   "metadata": {},
   "source": [
    "#### Model validation using validation-data"
   ]
  },
  {
   "cell_type": "code",
   "execution_count": 15,
   "metadata": {},
   "outputs": [],
   "source": [
    " model_val = joblib.load('../Saved_model/DL_model.pkl')"
   ]
  },
  {
   "cell_type": "code",
   "execution_count": 16,
   "metadata": {},
   "outputs": [
    {
     "name": "stdout",
     "output_type": "stream",
     "text": [
      "result_df Neural Network - Loss: 0.27126866365877517, Accuracy: 0.8905579447746277\n"
     ]
    }
   ],
   "source": [
    "model_loss, model_accuracy = model_val.evaluate(\n",
    "    X_val_scaled, val_labels, verbose=2)\n",
    "print(\n",
    "    f\"result_df Neural Network - Loss: {model_loss}, Accuracy: {model_accuracy}\")"
   ]
  },
  {
   "cell_type": "code",
   "execution_count": null,
   "metadata": {},
   "outputs": [],
   "source": []
  }
 ],
 "metadata": {
  "kernelspec": {
   "display_name": "Python 3",
   "language": "python",
   "name": "python3"
  },
  "language_info": {
   "codemirror_mode": {
    "name": "ipython",
    "version": 3
   },
   "file_extension": ".py",
   "mimetype": "text/x-python",
   "name": "python",
   "nbconvert_exporter": "python",
   "pygments_lexer": "ipython3",
   "version": "3.7.1"
  }
 },
 "nbformat": 4,
 "nbformat_minor": 2
}
