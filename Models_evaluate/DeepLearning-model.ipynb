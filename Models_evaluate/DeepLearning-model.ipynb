{
 "cells": [
  {
   "cell_type": "markdown",
   "metadata": {},
   "source": [
    "## DeepLearning Model"
   ]
  },
  {
   "cell_type": "markdown",
   "metadata": {},
   "source": [
    "#### Import libraries"
   ]
  },
  {
   "cell_type": "code",
   "execution_count": 29,
   "metadata": {},
   "outputs": [],
   "source": [
    "import joblib\n",
    "import pandas as pd\n",
    "import sklearn\n",
    "#import sklearn.datasets\n",
    "from keras.models import Sequential\n",
    "from keras.layers import Dense\n",
    "import warnings\n",
    "\n",
    "from sklearn.exceptions import DataConversionWarning\n",
    "warnings.filterwarnings('ignore', category=FutureWarning)\n",
    "warnings.filterwarnings('ignore', category=DeprecationWarning)\n",
    "warnings.filterwarnings('ignore', category=DataConversionWarning)\n",
    "\n",
    "tr_features = pd.read_csv('../Resources/train_features.csv')\n",
    "tr_labels = pd.read_csv('../Resources/train_labels.csv', header=None)\n",
    "test_features = pd.read_csv('../Resources/test_features.csv')\n",
    "test_labels = pd.read_csv('../Resources/test_labels.csv', header=None)\n",
    "\n",
    "val_features = pd.read_csv('../Resources/val_features.csv')\n",
    "val_labels = pd.read_csv('../Resources/val_labels.csv', header=None)"
   ]
  },
  {
   "cell_type": "code",
   "execution_count": 30,
   "metadata": {},
   "outputs": [],
   "source": [
    "def print_results(results):\n",
    "    print('BEST PARAMS: {}\\n'.format(results.best_params_))\n",
    "\n",
    "    means = results.cv_results_['mean_test_score']\n",
    "    stds = results.cv_results_['std_test_score']\n",
    "    for mean, std, params in zip(means, stds, results.cv_results_['params']):\n",
    "        print('{} (+/-{}) for {}'.format(round(mean, 3), round(std * 2, 3), params))"
   ]
  },
  {
   "cell_type": "code",
   "execution_count": 31,
   "metadata": {},
   "outputs": [],
   "source": [
    "from sklearn.preprocessing import MinMaxScaler\n",
    "\n",
    "X_scaler = MinMaxScaler().fit(tr_features)\n",
    "X_train_scaled = X_scaler.transform(tr_features)\n",
    "X_test_scaled = X_scaler.transform(test_features)\n",
    "X_val_scaled = X_scaler.transform(val_features)"
   ]
  },
  {
   "cell_type": "markdown",
   "metadata": {},
   "source": [
    "#### Train Model"
   ]
  },
  {
   "cell_type": "code",
   "execution_count": 70,
   "metadata": {},
   "outputs": [],
   "source": [
    "model = Sequential()\n",
    "model.add(Dense(units=100, activation='relu', input_dim=40))\n",
    "model.add(Dense(units=50, activation='relu'))\n",
    "model.add(Dense(units=50, activation='relu'))\n",
    "model.add(Dense(units=3, activation='softmax'))"
   ]
  },
  {
   "cell_type": "code",
   "execution_count": 71,
   "metadata": {},
   "outputs": [
    {
     "name": "stdout",
     "output_type": "stream",
     "text": [
      "Model: \"sequential_7\"\n",
      "_________________________________________________________________\n",
      "Layer (type)                 Output Shape              Param #   \n",
      "=================================================================\n",
      "dense_24 (Dense)             (None, 100)               4100      \n",
      "_________________________________________________________________\n",
      "dense_25 (Dense)             (None, 50)                5050      \n",
      "_________________________________________________________________\n",
      "dense_26 (Dense)             (None, 50)                2550      \n",
      "_________________________________________________________________\n",
      "dense_27 (Dense)             (None, 3)                 153       \n",
      "=================================================================\n",
      "Total params: 11,853\n",
      "Trainable params: 11,853\n",
      "Non-trainable params: 0\n",
      "_________________________________________________________________\n"
     ]
    }
   ],
   "source": [
    "#sparse_categorical_crossentropy was used because of multiple levels of the y-value (0, 1, 2)\n",
    "model.compile(optimizer='adam',\n",
    "             loss='sparse_categorical_crossentropy',\n",
    "             metrics=['accuracy'])\n",
    "model.summary()"
   ]
  },
  {
   "cell_type": "code",
   "execution_count": 72,
   "metadata": {},
   "outputs": [
    {
     "name": "stdout",
     "output_type": "stream",
     "text": [
      "Epoch 1/60\n",
      " - 1s - loss: 0.5689 - accuracy: 0.7213\n",
      "Epoch 2/60\n",
      " - 0s - loss: 0.3721 - accuracy: 0.8035\n",
      "Epoch 3/60\n",
      " - 0s - loss: 0.3591 - accuracy: 0.8164\n",
      "Epoch 4/60\n",
      " - 0s - loss: 0.3487 - accuracy: 0.8267\n",
      "Epoch 5/60\n",
      " - 0s - loss: 0.3384 - accuracy: 0.8269\n",
      "Epoch 6/60\n",
      " - 0s - loss: 0.3286 - accuracy: 0.8410\n",
      "Epoch 7/60\n",
      " - 0s - loss: 0.3222 - accuracy: 0.8443\n",
      "Epoch 8/60\n",
      " - 0s - loss: 0.3208 - accuracy: 0.8495\n",
      "Epoch 9/60\n",
      " - 0s - loss: 0.3094 - accuracy: 0.8584\n",
      "Epoch 10/60\n",
      " - 0s - loss: 0.3189 - accuracy: 0.8484\n",
      "Epoch 11/60\n",
      " - 0s - loss: 0.3137 - accuracy: 0.8517\n",
      "Epoch 12/60\n",
      " - 0s - loss: 0.3027 - accuracy: 0.8591\n",
      "Epoch 13/60\n",
      " - 0s - loss: 0.2937 - accuracy: 0.8698\n",
      "Epoch 14/60\n",
      " - 0s - loss: 0.3009 - accuracy: 0.8591\n",
      "Epoch 15/60\n",
      " - 0s - loss: 0.2923 - accuracy: 0.8691\n",
      "Epoch 16/60\n",
      " - 0s - loss: 0.2871 - accuracy: 0.8751\n",
      "Epoch 17/60\n",
      " - 0s - loss: 0.2932 - accuracy: 0.8617\n",
      "Epoch 18/60\n",
      " - 0s - loss: 0.2938 - accuracy: 0.8629\n",
      "Epoch 19/60\n",
      " - 0s - loss: 0.2818 - accuracy: 0.8770\n",
      "Epoch 20/60\n",
      " - 0s - loss: 0.2837 - accuracy: 0.8765\n",
      "Epoch 21/60\n",
      " - 0s - loss: 0.2807 - accuracy: 0.8755\n",
      "Epoch 22/60\n",
      " - 0s - loss: 0.2847 - accuracy: 0.8743\n",
      "Epoch 23/60\n",
      " - 0s - loss: 0.2813 - accuracy: 0.8765\n",
      "Epoch 24/60\n",
      " - 0s - loss: 0.2843 - accuracy: 0.8760\n",
      "Epoch 25/60\n",
      " - 0s - loss: 0.2790 - accuracy: 0.8794\n",
      "Epoch 26/60\n",
      " - 0s - loss: 0.2723 - accuracy: 0.8817\n",
      "Epoch 27/60\n",
      " - 0s - loss: 0.2755 - accuracy: 0.8746\n",
      "Epoch 28/60\n",
      " - 0s - loss: 0.2706 - accuracy: 0.8832\n",
      "Epoch 29/60\n",
      " - 0s - loss: 0.2752 - accuracy: 0.8786\n",
      "Epoch 30/60\n",
      " - 0s - loss: 0.2684 - accuracy: 0.8827\n",
      "Epoch 31/60\n",
      " - 0s - loss: 0.2746 - accuracy: 0.8791\n",
      "Epoch 32/60\n",
      " - 0s - loss: 0.2692 - accuracy: 0.8848\n",
      "Epoch 33/60\n",
      " - 0s - loss: 0.2676 - accuracy: 0.8803\n",
      "Epoch 34/60\n",
      " - 0s - loss: 0.2697 - accuracy: 0.8846\n",
      "Epoch 35/60\n",
      " - 0s - loss: 0.2722 - accuracy: 0.8808\n",
      "Epoch 36/60\n",
      " - 0s - loss: 0.2751 - accuracy: 0.8753\n",
      "Epoch 37/60\n",
      " - 0s - loss: 0.2627 - accuracy: 0.8827\n",
      "Epoch 38/60\n",
      " - 0s - loss: 0.2678 - accuracy: 0.8810\n",
      "Epoch 39/60\n",
      " - 0s - loss: 0.2594 - accuracy: 0.8896\n",
      "Epoch 40/60\n",
      " - 0s - loss: 0.2621 - accuracy: 0.8820\n",
      "Epoch 41/60\n",
      " - 0s - loss: 0.2634 - accuracy: 0.8844\n",
      "Epoch 42/60\n",
      " - 0s - loss: 0.2697 - accuracy: 0.8805\n",
      "Epoch 43/60\n",
      " - 0s - loss: 0.2638 - accuracy: 0.8791\n",
      "Epoch 44/60\n",
      " - 0s - loss: 0.2628 - accuracy: 0.8810\n",
      "Epoch 45/60\n",
      " - 0s - loss: 0.2534 - accuracy: 0.8903\n",
      "Epoch 46/60\n",
      " - 0s - loss: 0.2568 - accuracy: 0.8867\n",
      "Epoch 47/60\n",
      " - 0s - loss: 0.2521 - accuracy: 0.8887\n",
      "Epoch 48/60\n",
      " - 0s - loss: 0.2537 - accuracy: 0.8903\n",
      "Epoch 49/60\n",
      " - 0s - loss: 0.2478 - accuracy: 0.8901\n",
      "Epoch 50/60\n",
      " - 0s - loss: 0.2542 - accuracy: 0.8851\n",
      "Epoch 51/60\n",
      " - 0s - loss: 0.2528 - accuracy: 0.8898\n",
      "Epoch 52/60\n",
      " - 0s - loss: 0.2500 - accuracy: 0.8927\n",
      "Epoch 53/60\n",
      " - 0s - loss: 0.2468 - accuracy: 0.8913\n",
      "Epoch 54/60\n",
      " - 0s - loss: 0.2676 - accuracy: 0.8841\n",
      "Epoch 55/60\n",
      " - 0s - loss: 0.2477 - accuracy: 0.8901\n",
      "Epoch 56/60\n",
      " - 0s - loss: 0.2490 - accuracy: 0.8910\n",
      "Epoch 57/60\n",
      " - 0s - loss: 0.2515 - accuracy: 0.8832\n",
      "Epoch 58/60\n",
      " - 0s - loss: 0.2504 - accuracy: 0.8903\n",
      "Epoch 59/60\n",
      " - 0s - loss: 0.2507 - accuracy: 0.8870\n",
      "Epoch 60/60\n",
      " - 0s - loss: 0.2593 - accuracy: 0.8813\n"
     ]
    },
    {
     "data": {
      "text/plain": [
       "<keras.callbacks.callbacks.History at 0x15a9a50b6a0>"
      ]
     },
     "execution_count": 72,
     "metadata": {},
     "output_type": "execute_result"
    }
   ],
   "source": [
    "model.fit(\n",
    "X_train_scaled,\n",
    "tr_labels.values,\n",
    "epochs=60,\n",
    "shuffle=True,\n",
    "verbose=2\n",
    ")"
   ]
  },
  {
   "cell_type": "markdown",
   "metadata": {},
   "source": [
    "#### Model evaluation and Prediction on test-data"
   ]
  },
  {
   "cell_type": "code",
   "execution_count": 73,
   "metadata": {},
   "outputs": [
    {
     "name": "stdout",
     "output_type": "stream",
     "text": [
      "result_df Neural Network - Loss: 0.25116429563672993, Accuracy: 0.8970693349838257\n"
     ]
    }
   ],
   "source": [
    "model_loss, model_accuracy = model.evaluate(\n",
    "    X_test_scaled, test_labels, verbose=2)\n",
    "print(\n",
    "    f\"result_df Neural Network - Loss: {model_loss}, Accuracy: {model_accuracy}\")"
   ]
  },
  {
   "cell_type": "code",
   "execution_count": 74,
   "metadata": {},
   "outputs": [],
   "source": [
    "encoded_predictions = model.predict_classes(X_test_scaled[:20])\n",
    "Actual_label = (test_labels[:20]).values.ravel()"
   ]
  },
  {
   "cell_type": "code",
   "execution_count": 75,
   "metadata": {},
   "outputs": [
    {
     "data": {
      "text/html": [
       "<div>\n",
       "<style scoped>\n",
       "    .dataframe tbody tr th:only-of-type {\n",
       "        vertical-align: middle;\n",
       "    }\n",
       "\n",
       "    .dataframe tbody tr th {\n",
       "        vertical-align: top;\n",
       "    }\n",
       "\n",
       "    .dataframe thead th {\n",
       "        text-align: right;\n",
       "    }\n",
       "</style>\n",
       "<table border=\"1\" class=\"dataframe\">\n",
       "  <thead>\n",
       "    <tr style=\"text-align: right;\">\n",
       "      <th></th>\n",
       "      <th>Prediction</th>\n",
       "      <th>Actual</th>\n",
       "    </tr>\n",
       "  </thead>\n",
       "  <tbody>\n",
       "    <tr>\n",
       "      <th>0</th>\n",
       "      <td>2</td>\n",
       "      <td>2</td>\n",
       "    </tr>\n",
       "    <tr>\n",
       "      <th>1</th>\n",
       "      <td>0</td>\n",
       "      <td>0</td>\n",
       "    </tr>\n",
       "    <tr>\n",
       "      <th>2</th>\n",
       "      <td>2</td>\n",
       "      <td>2</td>\n",
       "    </tr>\n",
       "    <tr>\n",
       "      <th>3</th>\n",
       "      <td>0</td>\n",
       "      <td>0</td>\n",
       "    </tr>\n",
       "    <tr>\n",
       "      <th>4</th>\n",
       "      <td>0</td>\n",
       "      <td>1</td>\n",
       "    </tr>\n",
       "    <tr>\n",
       "      <th>5</th>\n",
       "      <td>2</td>\n",
       "      <td>2</td>\n",
       "    </tr>\n",
       "    <tr>\n",
       "      <th>6</th>\n",
       "      <td>1</td>\n",
       "      <td>1</td>\n",
       "    </tr>\n",
       "    <tr>\n",
       "      <th>7</th>\n",
       "      <td>0</td>\n",
       "      <td>0</td>\n",
       "    </tr>\n",
       "    <tr>\n",
       "      <th>8</th>\n",
       "      <td>2</td>\n",
       "      <td>2</td>\n",
       "    </tr>\n",
       "    <tr>\n",
       "      <th>9</th>\n",
       "      <td>2</td>\n",
       "      <td>2</td>\n",
       "    </tr>\n",
       "    <tr>\n",
       "      <th>10</th>\n",
       "      <td>2</td>\n",
       "      <td>2</td>\n",
       "    </tr>\n",
       "    <tr>\n",
       "      <th>11</th>\n",
       "      <td>1</td>\n",
       "      <td>1</td>\n",
       "    </tr>\n",
       "    <tr>\n",
       "      <th>12</th>\n",
       "      <td>2</td>\n",
       "      <td>2</td>\n",
       "    </tr>\n",
       "    <tr>\n",
       "      <th>13</th>\n",
       "      <td>1</td>\n",
       "      <td>0</td>\n",
       "    </tr>\n",
       "    <tr>\n",
       "      <th>14</th>\n",
       "      <td>0</td>\n",
       "      <td>0</td>\n",
       "    </tr>\n",
       "    <tr>\n",
       "      <th>15</th>\n",
       "      <td>1</td>\n",
       "      <td>0</td>\n",
       "    </tr>\n",
       "    <tr>\n",
       "      <th>16</th>\n",
       "      <td>2</td>\n",
       "      <td>2</td>\n",
       "    </tr>\n",
       "    <tr>\n",
       "      <th>17</th>\n",
       "      <td>2</td>\n",
       "      <td>2</td>\n",
       "    </tr>\n",
       "    <tr>\n",
       "      <th>18</th>\n",
       "      <td>2</td>\n",
       "      <td>2</td>\n",
       "    </tr>\n",
       "    <tr>\n",
       "      <th>19</th>\n",
       "      <td>2</td>\n",
       "      <td>2</td>\n",
       "    </tr>\n",
       "  </tbody>\n",
       "</table>\n",
       "</div>"
      ],
      "text/plain": [
       "    Prediction  Actual\n",
       "0            2       2\n",
       "1            0       0\n",
       "2            2       2\n",
       "3            0       0\n",
       "4            0       1\n",
       "5            2       2\n",
       "6            1       1\n",
       "7            0       0\n",
       "8            2       2\n",
       "9            2       2\n",
       "10           2       2\n",
       "11           1       1\n",
       "12           2       2\n",
       "13           1       0\n",
       "14           0       0\n",
       "15           1       0\n",
       "16           2       2\n",
       "17           2       2\n",
       "18           2       2\n",
       "19           2       2"
      ]
     },
     "execution_count": 75,
     "metadata": {},
     "output_type": "execute_result"
    }
   ],
   "source": [
    "result_df = pd.DataFrame({\n",
    "    'Prediction': encoded_predictions,\n",
    "    'Actual': Actual_label\n",
    "})\n",
    "result_df"
   ]
  },
  {
   "cell_type": "markdown",
   "metadata": {},
   "source": [
    "#### Write Model"
   ]
  },
  {
   "cell_type": "code",
   "execution_count": 76,
   "metadata": {},
   "outputs": [
    {
     "data": {
      "text/plain": [
       "['../Saved_model/DL_model.pkl']"
      ]
     },
     "execution_count": 76,
     "metadata": {},
     "output_type": "execute_result"
    }
   ],
   "source": [
    "joblib.dump(model, '../Saved_model/DL_model.pkl')"
   ]
  },
  {
   "cell_type": "markdown",
   "metadata": {},
   "source": [
    "#### Model validation using validation-data"
   ]
  },
  {
   "cell_type": "code",
   "execution_count": 77,
   "metadata": {},
   "outputs": [],
   "source": [
    " model_val = joblib.load('../Saved_model/DL_model.pkl')"
   ]
  },
  {
   "cell_type": "code",
   "execution_count": 78,
   "metadata": {},
   "outputs": [
    {
     "name": "stdout",
     "output_type": "stream",
     "text": [
      "result_df Neural Network - Loss: 0.2624242850639278, Accuracy: 0.8977110385894775\n"
     ]
    }
   ],
   "source": [
    "model_loss, model_accuracy = model_val.evaluate(\n",
    "    X_val_scaled, val_labels, verbose=2)\n",
    "print(\n",
    "    f\"result_df Neural Network - Loss: {model_loss}, Accuracy: {model_accuracy}\")"
   ]
  },
  {
   "cell_type": "code",
   "execution_count": null,
   "metadata": {},
   "outputs": [],
   "source": []
  },
  {
   "cell_type": "code",
   "execution_count": null,
   "metadata": {},
   "outputs": [],
   "source": []
  }
 ],
 "metadata": {
  "kernelspec": {
   "display_name": "Python 3",
   "language": "python",
   "name": "python3"
  },
  "language_info": {
   "codemirror_mode": {
    "name": "ipython",
    "version": 3
   },
   "file_extension": ".py",
   "mimetype": "text/x-python",
   "name": "python",
   "nbconvert_exporter": "python",
   "pygments_lexer": "ipython3",
   "version": "3.7.1"
  }
 },
 "nbformat": 4,
 "nbformat_minor": 2
}
